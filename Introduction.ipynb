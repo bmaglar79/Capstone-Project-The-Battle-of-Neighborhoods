{
 "cells": [
  {
   "cell_type": "markdown",
   "metadata": {
    "collapsed": true
   },
   "source": [
    "# How to buy a house in Los Angeles, California at a fair price and selling it to the double applying game theory inspired by The Monopoly game & the IBM Watson platform."
   ]
  },
  {
   "cell_type": "markdown",
   "metadata": {},
   "source": [
    "*By Jafed Encinas*"
   ]
  },
  {
   "cell_type": "markdown",
   "metadata": {},
   "source": [
    "**Keywords:** real estate, game theory, monopoly game, location data, data science, python."
   ]
  },
  {
   "cell_type": "markdown",
   "metadata": {},
   "source": [
    "## Introduction"
   ]
  },
  {
   "cell_type": "markdown",
   "metadata": {},
   "source": [
    "Los Angeles , city, seat of Los Angeles county, southern California, U.S. It is the second most populous city and metropolitan area (after New York City) in the United States. The city sprawls across a broad coastal plain situated between mountains and the Pacific Ocean; the much larger Los Angeles county, which encompasses the city, contains some 90 other incorporated cities, including Beverly Hills, Pasadena, and Long Beach. The county also encompasses two of the Channel Islands, Santa Catalina and San Clemente; Mount San Antonio, familiarly known as Mount Baldy or Old Baldy, 10,046 feet (3,062 metres) high; more than 900 square miles (2,330 square km) of desert; and 75 miles (120 km) of seacoast. *(Encyclopædia Britannica, inc., 2018)*\n",
    "\n",
    "**Homes for Sale in Los Angeles, CA have a median listing price of 939000 US Dollars and a price per square foot of 561 US Dollars. There are 6,449 active homes for sale in Los Angeles, California, which spend an average of 62 days on the market. Some of the hottest neighborhoods near Los Angeles, CA are Hollywood Hills West, Bel Air, Brentwood, Westwood, Beverly Glen. You may also be interested in homes for sale in popular zip codes like 90077, 90046, or in neighboring cities, such as Beverly Hills, West Hollywood, Santa Monica, Malibu, Pacific Palisades.** *(REALTOR, 2018)*\n",
    "\n",
    "Parker Brothers Real Estate Trading Game In 1934, Charles B. Darrow of Germantown, Pennsylvania, presented agame called **MONOPOLY** to the executives of Parker Brothers. Mr.Darrow, like many other Americans, was unemployed at the time andoften played this game to amuse himself and pass the time. \n",
    "**The object of the game is to become the wealthiest player through buying, renting and selling property.**\n",
    "The equipment consists of a board, 2 dice, tokens, 32houses and 12 hotels. There are Chance and Community Chest cards,a Title Deed card for each property and play money.\n",
    "Place the board on a table and put the Chance andCommunity Chest cards face down on their allotted spaces on theboard. Each player chooses one token to represent him/her whiletraveling around the board.Each player is given 1500 divided as follows: 2 each of 500’s, 100’s and  50’s; 6  20’s; 5 each of  10’s, 5’s and 1’s.All remaining money and other equipment go to the Bank.\n",
    "Select as Banker a player who will also make a goodAuctioneer. A Banker who plays in the game must keep his/herpersonal funds separate from those of the Bank. When more than fivepersons play, the Banker may elect to act only as Banker andAuctioneer.\n",
    "Besides the Bank’s money, the Bank holds the Title Deedcards and houses and hotels prior to purchase and use by the players.The Bank pays salaries and bonuses. It sells and auctions propertiesand hands out their proper Title Deed cards; it sells houses and hotelsto the players and loans money when required on mortgages.The Bank collects all taxes, fines, loans and interest, and the price ofall properties which it sells and auctions.The Bank never “goes broke.” If the Bank runs out of money, theBanker may issue as much more as may be needed by writing on any ordinary paper. *(Hasbro, 2015)*"
   ]
  },
  {
   "cell_type": "markdown",
   "metadata": {},
   "source": [
    "## Problem"
   ]
  },
  {
   "cell_type": "markdown",
   "metadata": {},
   "source": [
    "Considering the **AVERAGE PRICE HOME** in Los Angeles is 939,000 US Dollars. **How we can purchase a home with 700,000 US Dollars that in a period over 5 years we could sell by the double 1,400,000 US Dollars?**"
   ]
  },
  {
   "cell_type": "markdown",
   "metadata": {},
   "source": [
    "## Tools we need: ##\n",
    "- Foursquare API  \n",
    "- IBM Watson Account  \n",
    "- Los Angeles Data Sets \n",
    "  - [All-Transactions House Price Index for Los Angeles County, CA](https://fred.stlouisfed.org/series/ATNHPIUS06037A)\n",
    "  - [Housing Research in California](https://rstudio-pubs-static.s3.amazonaws.com/301646_d49ed11453c243a6864d44a674b1458b.html) *(Shi, 2017)*\n",
    "- Jupiter Notebooks  \n",
    "- Houses Prices\n",
    "  - [Current Market](https://www.realtor.com/realestateandhomes-search/Los-Angeles_CA)\n",
    "- Monopoly Game\n",
    "- Game theory"
   ]
  },
  {
   "cell_type": "markdown",
   "metadata": {},
   "source": [
    "## Works Cited ##\n",
    "*Encyclopædia Britannica, inc. (2018, 08 31). Los Angeles. Retrieved from Encyclopædia Britannica: https://www.britannica.com/place/Los-Angeles-California*  \n",
    "*REALTOR. (2018). Los Angeles, CA Real Estate & Homes for Sale. Retrieved from REALTOR: https://www.realtor.com/realestateandhomes-search/Los-Angeles_CA*  \n",
    "*Shi, R. (2017, 8 21). Housing in California. Retrieved from Ruyi Shi: https://rstudio-pubs-static.s3.amazonaws.com/301646_d49ed11453c243a6864d44a674b1458b.html*  \n",
    "*Hasbro. (2015). Official Monopoly Rulebook. Retrieved from Fliphtml5: http://fliphtml5.com/wbtl/eejw/basic*"
   ]
  }
 ],
 "metadata": {
  "kernelspec": {
   "display_name": "Python 3.5",
   "language": "python",
   "name": "python3"
  },
  "language_info": {
   "codemirror_mode": {
    "name": "ipython",
    "version": 3
   },
   "file_extension": ".py",
   "mimetype": "text/x-python",
   "name": "python",
   "nbconvert_exporter": "python",
   "pygments_lexer": "ipython3",
   "version": "3.5.5"
  }
 },
 "nbformat": 4,
 "nbformat_minor": 1
}
